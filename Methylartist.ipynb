{
  "metadata": {
    "kernelspec": {
      "name": "SQLite",
      "display_name": "SQLite",
      "language": "sql"
    },
    "language_info": {
      "codemirror_mode": "sql",
      "file_extension": "",
      "mimetype": "",
      "name": "sql",
      "version": "3.32.3"
    }
  },
  "nbformat_minor": 4,
  "nbformat": 4,
  "cells": [
    {
      "cell_type": "code",
      "source": "##La documentación de Methylartist es un horror. Se puede ejecutar directamente contra los BAMs.\n##Para crear un entorno:\n\nmamba create -n methylartist methylartist",
      "metadata": {
        "trusted": true
      },
      "outputs": [],
      "execution_count": null
    },
    {
      "cell_type": "code",
      "source": "##Por cierto, creé un par de directorios para separa las cosas, ahora la pipeline está dentro de uno que se llama \"ont-pipeline\" y el otro \"6mA\" \n##para poner todo lo que hagas en relación a eso.\n\n$ pwd\n/storage/scratch01/groups/bu/teloseq/\n\n$ ls\n6mA  ont-pipeline",
      "metadata": {
        "trusted": true
      },
      "outputs": [],
      "execution_count": null
    },
    {
      "cell_type": "code",
      "source": "##Environment created at: \n\n$ cd /storage/scratch01/users/mespejo/methylartist\n\n$ mamba create -n methylartist methylartist\n$ conda activate methylartist \n\n##Info conda vs mamba: Los de conda no aceptaron cambios para acelerar su software, que a esa altura era inutilizable en entornos grandes\npor lo que tardaba en resolver dependencias, y entonces los que proponían los cambios crearon mamba. Es 100% compatible y \nhay que usarlo para todo lo que soporta, pero algunos comandos (por ejemplo activate) son más fáciles de usar con conda aún.\n",
      "metadata": {
        "trusted": true
      },
      "outputs": [],
      "execution_count": null
    },
    {
      "cell_type": "code",
      "source": "## The methylartist tool requires an indexed BAM file (i.e., with a corresponding .bai index). To create the index, use samtools:\n\n$ samtools index /storage/scratch01/groups/bu/teloseq/methylartist/data/IE11_multiplex/IE11supv435mC6mAfilter_aligned.bam",
      "metadata": {
        "trusted": true
      },
      "outputs": [],
      "execution_count": null
    },
    {
      "cell_type": "code",
      "source": "##Output directory created \n\nexport METHYLARTIST_SAMPLE=T/storage/scratch01/users/mespejo/methylartist/DiMeLoseqH3K27me3Teloseq180624/DiMeLoseq_H3K27me3_Teloseq_supv56mAall.bam \nexport METHYLARTIST_OUTDIR=/storage/scratch01/groups/bu/teloseq/6mA/output/DiMeLoseqH3K27me3Teloseq180624/priorTeloseq/\nexport METHYLARTIST_WORKDIR=/storage/scratch01/groups/bu/teloseq/6mA/work/DiMeLoseqH3K27me3Teloseq180624/priorTeloseq/\nexport NXF_SINGULARITY_CACHEDIR=/storage/scratch01/groups/bu/teloseq/ont-pipeline/singularity/cache/ \nexport METHYLARTIST_INPUT=/storage/scratch01/users/mespejo/methylartist/DiMeLoseqH3K27me3Teloseq180624/DiMeLoseq_H3K27me3_Teloseq_supv56mAall.bam\nexport METHYLARTIST_REFERENCE=/storage/scratch01/users/mespejo/methylartist/DiMeLoseqH3K27me3Teloseq180624/YAOqpMP_reference.fasta.gz\n\n##Como reference tengo que coger la referencia con la que el .bam file está mapeado. Ultimamente para el mapping con minimap2 utilizamos:\n\nexport METHYLARTIST_REFERENCE=/storage/scratch01/groups/bu/teloseq/dimeloseq/reference/hg002v1.1.fasta\n\n##Esta refencia tiene esta pinta:\n\nchr1_MATERNAL   4       *       0       0       *       *       0       0       CCCTAACCCCTAACCCCTAACCCCTAACCCCTAACCCCTAACCCCTAACCCCTAACCCTAACCCTAACCCTAACCCTAACCC\n\n##Las referencias que utiliza Telo-seq de YAOqpMP_reference.fasta.gz:\n\nGWHDQZJ00000001_p       4       *       0       0       *       *       0       0       ACCCTAACCCTAACCCTAACCCTAACCCTAACCCTAACCCTAACCCTAACCCTAA\n\nY HG002qpMP_reference.fasta.gz\nchr1_PATERNAL_P 4       *       0       0       *       *       0       0       TAACCCTAACCCTAACCCTAACCCTAACCCTAACCCTAACCCTAACCCTAACCCTAACCCTAA\n\n##Las referencias que usan de ejemplo en methyartist con este comando (-r Homo_sapiens_assembly38.fasta) tienen esta pinta:\n    \nmethylartist region -i chr11:100956822-101228191 -d MCF7_data_megalodon.txt -g Homo_sapiens.GRCh38.97.chr.sorted.gtf.gz -p 32 -n CG -r Homo_sapiens_assembly38.fasta --samplepalette magma -l 101126888-101129371 --highlightpalette viridis\nchr1    4       *       0       0       *       *       0       0       NNNNNNNNNNNNNNNNNNNNNNNNNNNNNNNNNNNNNNNNNNNNNNNNNNNNNN\n\n##Así que con nuestra referencia podríamos hacer lo mismo, indicar la región con:\n\n    -i chr1_MATERNAL:0000-5700 -r hg002v1.1.fasta (5700 es donde está el corte con ECORV).\n\n##Lo que no se si podríamos extender para ver la longitud de telómeros. \n##O para poner como referencia siempre el corte de la región subtelomérica. ¿Tendría que mirarlo cromosoma a cromosoma?\n",
      "metadata": {
        "trusted": true
      },
      "outputs": [],
      "execution_count": null
    },
    {
      "cell_type": "code",
      "source": "##Luego el comando es:\n\nmethylartist region \\\n         -b my.bam \\\n         -r myref.fa \\\n         -i chr1:1000-2000 \\\n         -p 16 # numero de cores \\\n         -n A or CG # mod for Adenine or CpG methylation \\\n         -o myplot.png\n\nmethylartist region -b $METHYLARTIST_SAMPLE -r METHYLARTIST_REFERENCE -i chr1_MATERNAL:0000-5700 -p 16 -n A -work-dir $METHYLARTIST_WORKDIR --out_dir $METHYLARTIST_OUTDIR -o chr1qpaternal.plot",
      "metadata": {
        "trusted": true
      },
      "outputs": [],
      "execution_count": null
    },
    {
      "cell_type": "code",
      "source": "",
      "metadata": {
        "trusted": true
      },
      "outputs": [],
      "execution_count": null
    },
    {
      "cell_type": "code",
      "source": "$ export METHYLARTIST_SAMPLE=/storage/scratch01/groups/bu/teloseq/methylartist/data/IE11_multiplex/IE11supv435mC6mAfilter_aligned.bam\n$ export METHYLARTIST_INPUT=/storage/scratch01/groups/bu/teloseq/methylartist/data/IE11_multiplex/IE11supv435mC6mAfilter_aligned.bam\n$ export METHYLARTIST_OUTDIR=/storage/scratch01/groups/bu/teloseq/methylartist/output/IE11_multiplex/\n$ export METHYLARTIST_WORKDIR=/storage/scratch01/groups/bu/teloseq/methylartist/work/IE11_multiplex/\n$ export NXF_SINGULARITY_CACHEDIR=/storage/scratch01/groups/bu/teloseq/ont-pipeline/singularity/cache/ \n$ export METHYLARTIST_REFERENCE=/storage/scratch01/groups/bu/teloseq/methylartist/data/hg002v1.1.fasta \n\nsrun -c 12 --mem=32000 -t 300 --pty bash -c \"methylartist region -b $METHYLARTIST_SAMPLE -r $METHYLARTIST_REFERENCE -i chr1_MATERNAL:0000-5700 -p 16 -n CG -o /storage/scratch01/groups/bu/teloseq/methylartist/output/IE11_multiplex/IE11_chr1maternalp.plot\"",
      "metadata": {
        "trusted": true
      },
      "outputs": [],
      "execution_count": null
    },
    {
      "cell_type": "code",
      "source": "##Usando reference genome YAOqpMP_reference.fasta\nsrun -c 12 --mem=32000 -t 300 --pty bash -c \"methylartist region -b ./DiMeLoseqH3K27me3Teloseq180624/DiMeLoseq_H3K27me3_Teloseq_supv56mAall.bam -r ./YAOqpMP_reference.fasta -i chr1:0-15000 -p 16 -n A -o chr1q.plot\"",
      "metadata": {
        "trusted": true
      },
      "outputs": [],
      "execution_count": null
    },
    {
      "cell_type": "code",
      "source": "##Usando mejor reference genome HG002qpMP_reference.fasta\nsrun -c 12 --mem=32000 -t 300 --pty bash -c \"methylartist region -b ./DiMeLoseqH3K27me3Teloseq180624/DiMeLoseq_H3K27me3_Teloseq_supv56mAall.bam -r ./HG002qpMP_reference.fasta -i chr1_PATERNAL_P -p 16 -n A -o chr1q.plot\"\n\n##Sí, lo de Methylartist es por la referencia. Vas a tener que ajustar la  región a la referencia que estés usando. Imagino que no hay chr1 en tu fasta.\n\nsrun -c 12 --mem=32000 -t 300 --pty bash -c \"methylartist region -b ./DiMeLoseqH3K27me3Teloseq180624/DiMeLoseq_H3K27me3_Teloseq_supv56mAall.bam -r ./Homo_sapiens_assembly38.fasta -i chr1:0-15000 -p 16 -n A -o chr1q.plot\"",
      "metadata": {
        "trusted": true
      },
      "outputs": [],
      "execution_count": null
    },
    {
      "cell_type": "code",
      "source": "#El \"no targets in header\" cuando corres samtools quickcheck para los BAM que se generan es porque es un BAM sin alinear, o sea un abuso del formato. Pero es lo correcto para la salida de Dorado.\n\n#Los errores del out son normales: primero falla la descarga del modelo  con wget, y lo reintenta y lo logra con curl. Luego fallan 3 reads de \n#las quichicientasmil, así que sin importancia.\n\n#Lo único que te recomendaría sería tomar no solo podt_pass, sino también pod5_fail (poniendo los contenidos de ambas en un único directorio). \n#Porque esa categorización se hizo durante el sequencing con el modelo fast, y quizá el sup puede rescatar algo de las fail. En todo caso no \n#tires el bam de sólo pass, que es interesante comparar.exi",
      "metadata": {
        "trusted": true
      },
      "outputs": [],
      "execution_count": null
    },
    {
      "cell_type": "code",
      "source": "##Alignment with dorado of the demultiplexed files\n#where index is a reference to align to in (FASTQ/FASTA/.mmi) format and reads is a folder or file in any HTS format.\n\nsbatch -p gpu --gres=gpu:A100:1 -t 300 --mem=32G --wrap \"/storage/scratch01/users/mespejo/Dorado/bin/dorado aligner /storage/scratch01/users/mespejo/methylartist/references/HG002qpMP_reference.fasta Telo-seq_barcode01.bam > ./IE11_demultiplex_bam_align/Telo-seq_barcode01_aligned.bam\"\n\nexport METHYLARTIST_SAMPLE=/storage/scratch01/users/mespejo/methylartist/data/IE11_Teloseq_Multiplexing_01/IE11_Teloseq_demultiplex/IE11_demultiplex_bam/IE11_demultiplex_bam_align/Telo-seq_barcode01_aligned.bam \nexport METHYLARTIST_OUTDIR=/storage/scratch01/users/mespejo/methylartist/output/IE11_Teloseq_Multiplexing_01/IE11_Teloseq_demultiplex/\nexport METHYLARTIST_WORKDIR=/storage/scratch01/users/mespejo/methylartist/work/\nexport METHYLARTIST_INPUT=/storage/scratch01/users/mespejo/methylartist/data/IE11_Teloseq_Multiplexing_01/IE11_Teloseq_demultiplex/IE11_demultiplex_bam/IE11_demultiplex_bam_align/Telo-seq_barcode01_aligned.bam \nexport METHYLARTIST_REFERENCE=/storage/scratch01/users/mespejo/methylartist/data/references/HG002qpMP_reference.fasta\n\nsrun -c 12 --mem=32000 -t 300 --pty bash -c \"methylartist region -b ./DiMeLoseqH3K27me3Teloseq180624/DiMeLoseq_H3K27me3_Teloseq_supv56mAall.bam -r ./HG002qpMP_reference.fasta -i chr1:0000-15000 -p 16 -n A -work-dir $METHYLARTIST_WORKDIR --out_dir $METHYLARTIST_OUTDIR -o chr1qpaternal.plot\"\n\nsrun -c 12 --mem=32000 -t 300 --pty bash -c \"methylartist region -b /storage/scratch01/users/mespejo/methylartist/data/IE11_Teloseq_Multiplexing_01/IE11_Teloseq_demultiplex/IE11_demultiplex_bam/IE11_demultiplex_bam_align/Telo-seq_barcode01_aligned.bam -r HG002qpMP_reference.fasta -i chr1_PATERNAL_P -n CG -p 16 # numero de cores -n A -o /storage/scratch01/users/mespejo/methylartist/output/IE11_Teloseq_Multiplexing_01/IE11_Teloseq_demultiplex/chr1_PATERNAL_P.png\"\n",
      "metadata": {
        "trusted": true,
        "tags": [],
        "editable": true,
        "slideshow": {
          "slide_type": ""
        }
      },
      "outputs": [],
      "execution_count": null
    },
    {
      "cell_type": "code",
      "source": "2025-01-17 14:41:37,998 starting methylartist with command: /home/mespejo/miniforge3/envs/methylartist/bin/methylartist region -h\nusage: methylartist region [-h] -i INTERVAL [-d DATA] [-b BAMS] -n MOTIF -r REF [-g GTF] [-l HIGHLIGHT] [-w WINDOWS] [-p PROCS] [-m MODS] [-s SMOOTHWINDOWSIZE] [-q MIN_MAPQ] [-c PLOT_COVERAGE] [-o OUTFILE] [--logcover] [--allreads] [--highlight_bed HIGHLIGHT_BED] [--motifsize MOTIFSIZE]\n                           [--maxuncovered MAXUNCOVERED] [--modspace MODSPACE] [--readmask READMASK] [--min_window_calls MIN_WINDOW_CALLS] [--smoothfunc SMOOTHFUNC] [--smoothalpha SMOOTHALPHA] [--eff EFF] [--ymin YMIN] [--ymax YMAX] [--cover_ymin COVER_YMIN] [--max_read_density MAX_READ_DENSITY]\n                           [--samplepalette SAMPLEPALETTE] [--coverpalette COVERPALETTE] [--highlightpalette HIGHLIGHTPALETTE] [--genepalette GENEPALETTE] [--gene_track_height GENE_TRACK_HEIGHT] [--highlight_alpha HIGHLIGHT_ALPHA] [--highlight_centerline HIGHLIGHT_CENTERLINE] [--panelratios PANELRATIOS]\n                           [--nticks NTICKS] [--skip_align_plot] [--force_align_plot] [--genes GENES] [--labelgenes] [--show_transcripts] [--exonheight EXONHEIGHT] [--width WIDTH] [--height HEIGHT] [--phased] [--primary_only] [--color_by_hp] [--scale_fullwidth SCALE_FULLWIDTH] [--svg]\n\noptions:\n  -h, --help            show this help message and exit\n  -i INTERVAL, --interval INTERVAL\n                        chrom:start-end\n  -d DATA, --data DATA  text file with .bam filename and corresponding methylation database per line(whitespace-delimited)\n  -b BAMS, --bams BAMS  one or more .bams with MM and ML tags for modification calls (see samtags spec)\n  -n MOTIF, --motif MOTIF\n                        normalise window sizes to motif occurance\n  -r REF, --ref REF     ref genome fasta, required if normalising windows with -n/--norm_motif\n  -g GTF, --gtf GTF     genes or intervals to display in gtf format\n  -l HIGHLIGHT, --highlight HIGHLIGHT\n                        format: start-end, (can be chrom:start-end but chrom is ignored) can comma-delimit multiple highlights\n  -w WINDOWS, --windows WINDOWS\n                        set window count, default=auto\n  -p PROCS, --procs PROCS\n                        multiprocessing\n  -m MODS, --mods MODS  mods to consider (comma-delimited, default = all available)\n  -s SMOOTHWINDOWSIZE, --smoothwindowsize SMOOTHWINDOWSIZE\n                        size of window for smoothing (default=auto)\n  -q MIN_MAPQ, --min_mapq MIN_MAPQ\n                        minimum mapping quality (mapq), default = 10\n  -c PLOT_COVERAGE, --plot_coverage PLOT_COVERAGE\n                        plot coverage from bam(s) (can be comma-delimited list)\n  -o OUTFILE, --outfile OUTFILE\n                        output file name (default: generated from input)\n  --logcover            apply log2(count+1) to coverage data (--plot_coverage)\n  --allreads            show all alignments (secondary/supplementary alignments hidden by default)\n  --highlight_bed HIGHLIGHT_BED\n                        BED3+1 format (chrom, start, end, optional_colour) where colour (optional) must be intelligible to matplotlib\n  --motifsize MOTIFSIZE\n                        mod motif size, only used with -b/--bams (default is 2 as \"CG\" is most common use case, e.g. set to 1 for 6mA)\n  --maxuncovered MAXUNCOVERED\n                        maximum percentage of uncovered windows tolerated (default = 50.0)\n  --modspace MODSPACE   increase to increase spacing between links in top panel (default=auto)\n  --readmask READMASK   mask reads from being shown in interval(s) (start-end or chrom:start-end; chrom ignored). Can be comma-delimited.\n  --min_window_calls MIN_WINDOW_CALLS\n                        minimum reads per window to include in plot (default = 1)\n  --smoothfunc SMOOTHFUNC\n                        smoothing function, one of: flat,hanning,hamming,bartlett,blackman (default = hanning)\n  --smoothalpha SMOOTHALPHA\n                        alpha (transparency) value for smoothed plot (default = 1.0)\n  --eff EFF             conversion efficiency (for e.g. bs-seq or em-seq), input as comma-delimited sample:eff e.g. MySample1.m:0.9,MySample2.m:0.8\n  --ymin YMIN           y-axis minimum for smoothed plot (default = -0.05)\n  --ymax YMAX           y-axis maximum for smoothed plot (default = 1.05\n  --cover_ymin COVER_YMIN\n                        y-axis minimum for coverage plot (default = 0)\n  --max_read_density MAX_READ_DENSITY\n                        filter reads with call density greater >= value, can be helpful in footprinting assays (default=None)\n  --samplepalette SAMPLEPALETTE\n                        palette for samples (default = \"tab10\"), see https://seaborn.pydata.org/tutorial/color_palettes.html\n  --coverpalette COVERPALETTE\n                        colour palette name for coverage plot (default = \"mako\")\n  --highlightpalette HIGHLIGHTPALETTE\n                        colour palette name for highlights (default = \"Blues\")\n  --genepalette GENEPALETTE\n                        colour palette name for highlights (default = \"viridis\")\n  --gene_track_height GENE_TRACK_HEIGHT\n                        maximum number of gene track layers\n  --highlight_alpha HIGHLIGHT_ALPHA\n                        alpha for highlighting in panels (between 0 and 1, default = 0.25)\n  --highlight_centerline HIGHLIGHT_CENTERLINE\n                        change highlight to line (specify width)\n  --panelratios PANELRATIOS\n                        Alter panel ratios: needs to be 4 (or 5 if --plot_coverage) comma-seperated integers. Default: 1,5,3,3\n  --nticks NTICKS       tick count (default=10)\n  --skip_align_plot     blank alignment plot, useful if unneeded or for runtime.\n  --force_align_plot    retain alignment plot even over regions > 5Mbp where it would be disabled automatically\n  --genes GENES         genes of interest (comma delimited)\n  --labelgenes          plot gene names\n  --show_transcripts    plot all transcripts, use transcript_id/transcript_name attrs\n  --exonheight EXONHEIGHT\n                        set exon height (default=0.8)\n  --width WIDTH         image width (inches, default=16)\n  --height HEIGHT       image width (inches, default=8)\n  --phased              currently only considers two phases (diploid)\n  --primary_only        ignore non-primary alignments\n  --color_by_hp         color samples by HP value (req --phased)\n  --scale_fullwidth SCALE_FULLWIDTH\n                        scale plot output relative to value (e.g. use length of chrom 1)",
      "metadata": {
        "trusted": true
      },
      "outputs": [],
      "execution_count": null
    },
    {
      "cell_type": "code",
      "source": "##Methylartist to count %methylation in a region",
      "metadata": {
        "trusted": true
      },
      "outputs": [],
      "execution_count": null
    },
    {
      "cell_type": "code",
      "source": "##We first create a .bed file with excel. We save it as a tab-text .txt and then we change it to .bed\nchr1_MATERNAL   2415    4915\nchr1_MATERNAL   244014790       244017290\nchr1_PATERNAL   3418    5918\nchr1_PATERNAL   252053115       252055615\nchr2_MATERNAL   2687    5187\nchr2_MATERNAL   242107695       242110195\nchr2_PATERNAL   1945    4445\nchr2_PATERNAL   241866969       241869469\nchr3_MATERNAL   201086583       201089083\nchr3_PATERNAL   201502801       201505301\nchr4_MATERNAL   1803    4303\nchr4_MATERNAL   191665141       191667641\nchr4_PATERNAL   2135    4635\nchr4_PATERNAL   192373651       192376151\nchr5_MATERNAL   183255136       183257636\nchr5_PATERNAL   188868831       188871331\nchr6_MATERNAL   1443    3943\nchr6_MATERNAL   174736176       174738676\nchr6_PATERNAL   2234    4734\nchr6_PATERNAL   174404856       174407356\nchr7_MATERNAL   2381    4881\nchr7_MATERNAL   160950141       160952641\nchr7_PATERNAL   2084    4584\nchr7_PATERNAL   160099884       160102384\n\nFirst colum is chr name according to reference (hg002v1.1.) then start of the region and end.\n\n    ",
      "metadata": {
        "trusted": true
      },
      "outputs": [],
      "execution_count": null
    },
    {
      "cell_type": "code",
      "source": "##Then we use methylartist segmeth\n methylartist segmeth \n-b /storage/scratch01/groups/bu/teloseq/methylartist/data/IE11_multiplex/IE11supv435mC6mAfilter_aligned.bam \n-i ./chr1_7_2500.bed\n--motif CG \n--ref /storage/scratch01/groups/bu/teloseq/methylartist/data/hg002v1.1.fasta  \n-p 32 \n-o /storage/scratch01/groups/bu/teloseq/methylartist/output/IE11_multiplex/IE11_multiplex_segmeth.tsv\n\nsrun -c 12 --mem=32000 -t 300 --pty bash -c \"methylartist segmeth -b /path/to/bamfile  -i ./data/chr1_7_3000.bed --motif CG --ref /storage/scratch01/groups/bu/teloseq/methylartist/data/hg002v1.1.fasta -p 32 -o ./output/path/to/file\"",
      "metadata": {
        "trusted": true
      },
      "outputs": [],
      "execution_count": null
    },
    {
      "cell_type": "code",
      "source": "usage: methylartist segmeth [-h] [-d DATA] [-b BAMS] -i INTERVALS [-p PROCS] [-q MIN_MAPQ] [-o OUTFILE] [--ref REF] [--motif MOTIF]\n                            [--max_read_density MAX_READ_DENSITY] [--excl_ambig] [--spanning_only] [--primary_only] [--phased]\n\noptions:\n  -h, --help            show this help message and exit\n  -d DATA, --data DATA  text file with .bam filename and corresponding methylation database per line(whitespace-delimited)\n  -b BAMS, --bams BAMS  one or more .bams with Mm and Ml tags for modification calls (see samtags spec)\n  -i INTERVALS, --intervals INTERVALS\n                        .bed file\n  -p PROCS, --procs PROCS\n                        multiprocessing\n  -q MIN_MAPQ, --min_mapq MIN_MAPQ\n                        minimum mapping quality (mapq), default = 10\n  -o OUTFILE, --outfile OUTFILE\n                        output file name (default: generated from input)\n  --ref REF             reference genome .fa (build .fai index with samtools faidx) (required for mod bams)\n  --motif MOTIF         expected modification motif (e.g. CG for 5mCpG required for mod bams)\n  --max_read_density MAX_READ_DENSITY\n                        filter reads with call density greater >= value, can be helpful in footprinting assays (default=None)\n  --excl_ambig          do not consider reads that align entirely within segment\n  --spanning_only       only consider reads that span segment\n  --primary_only        ignore non-primary alignments\n  --phased              currently only considers two phases (diploid)",
      "metadata": {
        "trusted": true
      },
      "outputs": [],
      "execution_count": null
    },
    {
      "cell_type": "code",
      "source": "##Now we have the .tsv file and we can do segplot\nmethylartist segplot -s IE11_multiplex_segmeth.tsv -d m -o IE11_multiplex_segmeth.jpg\n",
      "metadata": {
        "trusted": true
      },
      "outputs": [],
      "execution_count": null
    },
    {
      "cell_type": "code",
      "source": "##We will try to generate the plot with methylartist composite. Generates \"composite\" methylation plots where multiple per-element profiles are aligned to and plotted against a reference sequence.\n##Ejemplo:\n    \n$ methylartist composite -d MCF7_data_megalodon.txt -s L1HS.bed -r Homo_sapiens_assembly38.fasta -t L1.3.fa  -p 32 --blocks L1.3.highlights.bed\n\nThe contents of L1HS.bed are formatted as follows (first 10 lines), derived from hg38 repeatmasker .out files:\n\nchr1    34566056        34572105        L1HS    -\nchr1    67078892        67084915        L1HS    -\nchr1    71513699        71519742        L1HS    +\nchr1    80939204        80945257        L1HS    -\nchr1    84052390        84058406        L1HS    -\nchr1    85748520        85754548        L1HS    +\nchr1    85927068        85933100        L1HS    +\nchr1    86679081        86685111        L1HS    -\nchr1    104770248       104776278       L1HS    -\nchr1    104843834       104849864       L1HS    -\n\nThe consensus sequence for establishing a common coordinate system is in L1.3.fa (fasta formatted with one sequence), available here: L19088.1 (it contains 6000 sequence of the human LINE-1 (L1Hs) element).\n\nThe contents of L1.3.highlights.bed used for optional highlighting of regions (ORF1 and ORF2 in this case). \n\n\n##We can try:\n\n$ methylartist composite -b /storage/scratch01/groups/bu/teloseq/methylartist/data/IE11_multiplex/IE11supv435mC6mAfilter_aligned.bam -s /storage/scratch01/groups/bu/teloseq/methylartist/data/chr1_7_3000.bed  -r /storage/scratch01/groups/bu/teloseq/methylartist/data/hg002v1.1.fasta -p 32 -o /storage/scratch01/groups/bu/teloseq/methylartist/output/IE11_multiplex/IE11_multiplex_composite\n    \n(methylartist) [mespejo@cluster1-head1 methylartist]$ methylartist composite -h\n2025-01-23 09:50:06,060 starting methylartist with command: /home/mespejo/miniforge3/envs/methylartist/bin/methylartist composite -h\nusage: methylartist composite [-h] [-d DATA] [-b BAMS] -s SEGDATA -r REF -t TEREF [-p PROCS] [-c PALETTE] [-a ALPHA] [-w LINEWIDTH]\n                              [-l LENFRAC] [-q MIN_MAPQ] [-o OUTFILE] [--meanplot_ylabel MEANPLOT_YLABEL]\n                              [--meanplot_cutoff MEANPLOT_CUTOFF] [--mod MOD] [--motif MOTIF] [--blocks BLOCKS] [--start START]\n                              [--end END] [--mincalls MINCALLS] [--minelts MINELTS] [--maxelts MAXELTS]\n                              [--slidingwindowsize SLIDINGWINDOWSIZE] [--slidingwindowstep SLIDINGWINDOWSTEP]\n                              [--smoothwindowsize SMOOTHWINDOWSIZE] [--smoothfunc SMOOTHFUNC] [--ymin YMIN] [--ymax YMAX]\n                              [--max_read_density MAX_READ_DENSITY] [--excl_ambig] [--primary_only] [--phased] [--color_by_phase]\n                              [--output_table] [--svg]\n\noptions:\n  -h, --help            show this help message and exit\n  -d DATA, --data DATA  text file with .bam filename and corresponding methylation database per line(whitespace-delimited)\n  -b BAMS, --bams BAMS  one or more .bams with MM and ML tags for modification calls (see samtags spec)\n  -s SEGDATA, --segdata SEGDATA\n                        BED3+1: chrom, start, end, strand\n  -r REF, --ref REF     ref genome fasta\n  -t TEREF, --teref TEREF\n                        TE ref fasta\n  -p PROCS, --procs PROCS\n                        multiprocessing\n  -c PALETTE, --palette PALETTE\n                        palette for samples (default = \"tab10\"), see https://seaborn.pydata.org/tutorial/color_palettes.html\n  -a ALPHA, --alpha ALPHA\n                        alpha (default: 0.3)\n  -w LINEWIDTH, --linewidth LINEWIDTH\n                        line width (default: 1)\n  -l LENFRAC, --lenfrac LENFRAC\n                        fraction of TE length that must align (default 0.95)\n  -q MIN_MAPQ, --min_mapq MIN_MAPQ\n                        minimum mapping quality (mapq), default = 10\n  -o OUTFILE, --outfile OUTFILE\n                        output file name (default: generated from input)\n  --meanplot_ylabel MEANPLOT_YLABEL\n                        set y-axis label on mean plot\n  --meanplot_cutoff MEANPLOT_CUTOFF\n                        override site coverage cutoff for mean plot (see output for automatic value)\n  --mod MOD             modification to plot (mod codes will be listed, default: infer from sample name\n  --motif MOTIF         modified motif to highlight (default = CG)\n  --blocks BLOCKS       blocks to highlight (txt file with start, end, name, hex colour)\n  --start START         start plotting at this base (default None)\n  --end END             end plotting at this base (default None)\n  --mincalls MINCALLS   minimum call count to include elt (default = 100)\n  --minelts MINELTS     minimum output elements (default = 1)\n  --maxelts MAXELTS     maximum output elements, if > max random.sample() (default = 200)\n  --slidingwindowsize SLIDINGWINDOWSIZE\n                        size of sliding window for meth frac (default 10)\n  --slidingwindowstep SLIDINGWINDOWSTEP\n                        step size for meth frac (default 1)\n  --smoothwindowsize SMOOTHWINDOWSIZE\n                        size of window for smoothing (default 8)\n  --smoothfunc SMOOTHFUNC\n                        smoothing function, one of: flat,hanning,hamming,bartlett,blackman (default = hanning)\n  --ymin YMIN           y-axis minimum for smoothed plot\n  --ymax YMAX           y-axis maximum for smoothed plot\n  --max_read_density MAX_READ_DENSITY\n                        filter reads with call density greater >= value, can be helpful in footprinting assays (default=None)\n  --excl_ambig\n  --primary_only        ignore non-primary alignments\n  --phased              currently only considers two phases (diploid)\n  --color_by_phase      color samples by HP value (req --phased)\n  --output_table        output per-site data to table (.tsv)\n  --svg\n",
      "metadata": {
        "trusted": true
      },
      "outputs": [],
      "execution_count": null
    }
  ]
}