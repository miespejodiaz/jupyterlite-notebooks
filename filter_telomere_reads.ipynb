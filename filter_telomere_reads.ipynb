{
  "metadata": {
    "kernelspec": {
      "name": "python",
      "display_name": "Python (Pyodide)",
      "language": "python"
    },
    "language_info": {
      "codemirror_mode": {
        "name": "python",
        "version": 3
      },
      "file_extension": ".py",
      "mimetype": "text/x-python",
      "name": "python",
      "nbconvert_exporter": "python",
      "pygments_lexer": "ipython3",
      "version": "3.8"
    }
  },
  "nbformat_minor": 4,
  "nbformat": 4,
  "cells": [
    {
      "cell_type": "code",
      "source": "##Fichero python para hacer el filtro de los telomeric reads prior to map con minimap2. ",
      "metadata": {
        "trusted": true
      },
      "outputs": [],
      "execution_count": null
    },
    {
      "cell_type": "code",
      "source": "import csv\nimport pysam\nimport argparse\n\ndef filter_bam(csv_file, input_bam, output_bam):\n    # Step 1: Load read IDs from the CSV file\n    read_ids = set()  # Use a set for faster lookup\n    with open(csv_file, 'r') as f:\n        reader = csv.reader(f)\n        for row in reader:\n            read_ids.add(row[0])  # Assuming the read ID is in the first column\n\n    # Step 2: Open the input BAM file and prepare the output BAM file\n    with pysam.AlignmentFile(input_bam, \"rb\", check_sq=False) as bam_in, \\\n         pysam.AlignmentFile(output_bam, \"wb\", header=bam_in.header) as bam_out:\n\n        # Step 3: Iterate through the BAM file and filter reads\n        for read in bam_in:\n            if read.query_name in read_ids:  # Check if read ID is in the set\n                bam_out.write(read)  # Write matching read to the output BAM\n\nif __name__ == \"__main__\":\n    # Set up argument parsing\n    parser = argparse.ArgumentParser(description=\"Filter a BAM file based on read IDs from a CSV file.\")\n    parser.add_argument(\"--csv_file\", required=True, help=\"Path to the CSV file containing read IDs (first column).\")\n    parser.add_argument(\"--input_bam\", required=True, help=\"Path to the input BAM file.\")\n    parser.add_argument(\"--output_bam\", required=True, help=\"Path to the output BAM file for filtered reads.\")\n\n    # Parse the arguments\n    args = parser.parse_args()\n\n    # Call the filter_bam function with the parsed arguments\n    filter_bam(args.csv_file, args.input_bam, args.output_bam)",
      "metadata": {
        "trusted": true
      },
      "outputs": [],
      "execution_count": null
    },
    {
      "cell_type": "code",
      "source": "## Para ejecutar\n\nconda activate wf-teloseq\npython filter_bam.py --csv_file path/to/your.csv --input_bam path/to/input.bam --output_bam path/to/output.bam\n\npython /storage/scratch01/groups/bu/teloseq/dimeloseq/filter.py --csv_file IE20_joined_barcode12_nofiltered_Per_Read_telomere_length.csv --input_bam /storage/scratch01/groups/bu/teloseq/dorado/output/IE20_multiplex/IE20_joined_demultiplex/IE20_joined_barcode12.bam --output_bam IE20_joined_barcode12_filter.bam  ",
      "metadata": {
        "trusted": true
      },
      "outputs": [],
      "execution_count": null
    }
  ]
}