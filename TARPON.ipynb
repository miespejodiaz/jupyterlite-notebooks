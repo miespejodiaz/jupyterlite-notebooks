{
  "metadata": {
    "kernelspec": {
      "name": "python",
      "display_name": "Python (Pyodide)",
      "language": "python"
    },
    "language_info": {
      "codemirror_mode": {
        "name": "python",
        "version": 3
      },
      "file_extension": ".py",
      "mimetype": "text/x-python",
      "name": "python",
      "nbconvert_exporter": "python",
      "pygments_lexer": "ipython3",
      "version": "3.8"
    }
  },
  "nbformat_minor": 5,
  "nbformat": 4,
  "cells": [
    {
      "id": "cb467b35-ba98-4520-8c4a-9b88febf9491",
      "cell_type": "code",
      "source": "##TARPON",
      "metadata": {
        "trusted": true
      },
      "outputs": [],
      "execution_count": null
    },
    {
      "id": "a42a74a9-729f-4721-b29b-69cc5013e7e6",
      "cell_type": "code",
      "source": "nextflow run main.nf \\\n  -profile singularity \\\n  --input /path/to/input.bam \\\n  --capture_probe_sequence ATGCTACGATCA \\\n  --outdir /path/to/output/",
      "metadata": {
        "trusted": true
      },
      "outputs": [],
      "execution_count": null
    },
    {
      "id": "6d100109-d093-4b68-801e-b70da6454bab",
      "cell_type": "code",
      "source": "",
      "metadata": {
        "trusted": true
      },
      "outputs": [],
      "execution_count": null
    },
    {
      "id": "d17e39d4-ba7f-4217-8934-2d70693a91d8",
      "cell_type": "code",
      "source": "# TARPON v1.0.2\nTelomere Analysis and Research Pipeline Optimized for Nanopore Sequencing Data\n\n## [Running TARPON from the Command Line](#commandline)\n\n##Nuestros telo-splint tienen la secuencia probe TTAACCTTAGCAAT y creo que solo se secuencia la -c strand.\n\nIn the simplest form TARPON can be run using the following command. \"--input\" can either be a fastq file, a gzipped fastq file, a bam file, or a directory containing any of the previous file types. \nThis command assumes there is one sample present and no demultiplexing will occur.  The end of the telomere is identified by the capture probe sequence. \nBoth G and C strands will be included in the analysis and the enrichment procedure is assumed to have been conducted with duplex enriched data.\n\n    nextflow run main.nf --input ./test_data/simplex_test.duplex.bam --capture_probe_sequence AAGGTTAAAAGGA --outdir ./simplex_test\n\nIf the data is enriched via a simplex enrichment protocol \"--c_strand_only\" must be added to the command\n\n    nextflow run main.nf --input ./simplex_test.c_strand_only.bam --capture_probe_sequence ACTTCGTTCGGT --c_strand_only --outdir ./simplex_test_c_strand_only\n\n\n\nTo enable demultiplexing an additional sample file will have to be provided. This execution implies that all telomeres terminate in a common capture probe sequence and then will be demultiplexed using the barcodes found in sampleFile.csv. \nThis is the recommended method for demultiplexing based on speed however has not been thoroughly tested.\n\n    nextflow run main.nf --input file.bam --capture_probe_sequence NNNNNNNNNN --sample_file sampleFile.csv\n\nTo demultiplex without a common barcode sequence simply omit the capture probe sequence flag. This approach has been tested.\n\n    nextflow run main.nf --input ./test_data/demux_test.bam --c_strand_only --sample_file ./test_data/demux_test.barcodes.csv --outdir ./demux_test_c_strand_only\n\nTo override any default paramters the parameter must be specified with --parameter_name parameter_value. For example to override the run_name.\n\n    nextflow run main.nf --input ./test_data/simplex_test.duplex.bam --capture_probe_sequence ATGCTACGATCA --outdir ./simplex_test --run_name NEW_TEST_NAME_FOR_RUN\n\nTo activate a boolean parameter such as strand comparison no value needs to be provided after the parameter name\n\n    nextflow run main.nf --input ./test_data/simplex_test.duplex.bam --capture_probe_sequence ATGCTACGATCA --outdir ./simplex_test --strand_comparison\n\nTo include a restriction digest analysis use the paramter --restriction_digest_analysis with a comma separated list of cut sites. For example searching for EcoRV and EcoRI cut sites.\n\n    nextflow run main.nf --input ./test_data/simplex_test.duplex.bam --capture_probe_sequence ATGCTACGATCA --outdir ./simplex_test --restriction_digest_analysis GATATC,GAATTC\n\n## [Additional Help and Information](#help)\n\nFor additional help please contact Nathaniel Deimler by opening an issue on this repository or by email at ndeimler@uni-mainz.de or nathanieldeimler.research@gmail.com or visit Deimler et al., 2025 for more information.\n\n## [Basic Input Parameters](#input)\n| Parameter      | Epi2Me Appearance |Description | Type | Default     |\n| :---        |    :----:   | :----:   | :---: |       ---: |\n| run_name      | Run Name |  Name of Sequencing Run for Overall Statistics and printed on html report  | String | String| Run |\n| input   | Input |  Bam File, FastQ File, compressed fastq file, or Directory from Nanopore Sequencing for Analysis. If a directory, all bam files will be merged together. If fastq files are provided or a directory containing fastq files is provided, the fastq files will first be merged together and converted to a bam file prior to analysis  | File or Directory | None |\n| fast_basecalled | Fast Basecalled | TARPON allows for data basecalled using the fast models to be analysed.  If this parameter is specified telomere reads will be isolated from the sequencing dataset and rebasecalled using the specified pod5_directory using a SUP model. This is designed to reduce turn around time. As opposed to SUP basecalling the entire dataset, only relevant reads are SUP basecalled. | Boolean | False |\n| pod5_dir | Pod5 Directory | Location of raw pod5 files from sequencing. Must be specified when using --fast_basecalled | Directory | None |\n| sample_name | Sample Name | Either sample file or sample name must be specified. Use sample name when not demultiplexing and all reads in the input file belong to the same sample. See sample_file | String | sample |\n| capture_probe_sequence | Capture Probe Sequence | Sequence that marks the end of telomeric repeats in G strand orientation, even if c_strand_only is activated. If no capture probe sequence is provided the barcodes listed in sample file will be considered the end of the telomeric sequence. If both a sample_file and a capture probe sequence are provided, the capture probe sequence will mark the end of the telomere, while the barcodes within sample_file will be used for demultiplexing. | String| None |\n| sample_file | Sample File | A comma separated values (csv) file containing two columns without headers, \"sample_name,barcode_sequence\". See test_data/example_sample_file.csv. See sample_name| CSV File | None |\n| Repeat | Repeat | Telomeric repeat of interest composing Telomeric Sequences | String | GGTTAG|\n| outdir| Output Directory | Location of where you would like the Pipeline to output results | Path | ./output |\n| trace_dir | | Location for pipeline execution information including CPU usage and time | Directory | ./{outdir}/pipeline_info |\n\n## [Advanced Input Parameteres](#advanced_input)\n\n| Parameter      | Epi2Me Appearance |Description | Type | Default     |\n| :---        |    :----:   | :----:   | :---: |       ---: |\n| overwrite_outdir | Overwrite Out Directory | If the output directory you have specified already exists, delete the directory |Boolean | False |\n| c_strand_only | C Strand Only | Boolean value to dictate if the data was collected in a manner at which only C strand telomeric sequences would be expected | Boolean | False |\n| minimum_telo_reads_per_sample | Minimum Telo Reads Per Sample | Minimum number of telomeric reads per sample for the sample to pass filtering criteria and considered valid for drawing conclusions | Integer | 500 |\n| repeat_count | Repeat Count | Number of telomeric repeats required in a read for it to be identified as putatively telomeric |  Integer | 10 |\n| reverse_complement_threshold | Reverse Complement Threshold | Percentage of telomeric repeats must be greater than this value to be classified as C strand. If the percentage is less than 1 minus this value, the read is classified as C strand. Anthing greater than 1-value but less than value is removed from analysis |  Float | 0.80|\n| capture_probe_sequence_errors | Capture Probe Sequence Errors | Number of Errors to allow within the capture probe Sequence. It is recomended this value is 1/8th of the sequence length. For example, a capture probe of 16 nucleotides should contain 2 errors, while a capture probe of 24 nucleotides should contain 3 | Integer | 2 |\n| barcode_errors | Barcode Errors | See capture_probe_sequence_errors , but for barcodes provided in sample_file | Integer | 3 |\n| capture_probe_overhang_length|Capture Probe Overhang Length|length of nucleotides corresponding to telomeric overhang on the capture probe| Integer | 18 (3 telomeric repeats) |\n| min_subtelo_length | Min Subtelomere Length | Minimum length of sequence that is less than subtelo_threshold at the beginning of the read to ensure complete sequence of the telomere. Additionally, this removes reads that are less than this length | Integer | 300 |\n| subtelo_threshold | Subtelomere Threshold | Proportion of read from the start to min_subtelo_length that must not be exceeded in order to consider the read to be completely sequenced through the telomere. For example a subtelo threshold of 0.3 with a min_subtelo_length of 300 indicates the first 300 nucleotides of the read are not telomeric (in G strand conformation). | Float | 0.2 |\n|sliding_window_size|Sliding Window Size| To determine telomere start position the read is analyzed using a sliding window approach, this is the size of said sliding window | Integer | 100|\n|sliding_window_interval|Sliding Window Interval| The Interval will not move one bp at a time, but will rather jump. This is the jumping interval of the sliding window| Integer | 15 |\n|upper_threshold| Upper Threshold | When the sliding window is composed of this ratio of one nucleotide variants of the telomeric repeat, the VRR region starts assuming it does not drop below lower threshold | Float | 0.6|\n|lower_threshold| Lower Threshold|The lower threshold (see upper threshold) at which a the proportion of one nucleotide variants of the telomeric repeat must not drop below in a sliding window | Float | 0.05|\n|consecutive_threshold| Consecutive Threshold | Number of jumping windows in which the ratio of one nucleotide substitutions of the telomeric repeat must be below the lower threshold for the telomere start to be considered not identified | Integer | 15 |\n|telomeric_repeat_percentage| Telomeric Repeat Percentage | From VRR start to the end of the telomere (identified by the presence of capture probes or barcodes) the telomere must be composed of this percentage of one nucleotide variations of the telomeric repeat | Float | 0.7|\n| pretelo_start | Pre-Telomeric Start Distance | Distance before the VRR-region start site to check for telomeric repeats | Integer | 2000 |\n| pretelomeric_repeat_percentage | Pre-Telomeric Repeat Maximum Composition | Maximum percentage of telomere+1N repeats within the pretelo_start nucleotides before the VRR-region start site. | Float | 0.1 |\n| minimum_telomere_length | Minimum Telomere length | Mininum number of nucleotides in telomere, otherwise the read is removed from the analysis. It is not recomended to use this parameter unless your telomere enrichment is using low quality fragmented DNA | Integer | 0 |\n|strand_comparison| Strand Comparison | Results in the creation of additional statistics and plots comparing G strand telomeric repeats and C strand telomeric repeats| Boolean | False|\n|indiv_read_plots|Individual Read Plots| Will create one plot for every telomeric read with percentage of telomeric repeats on the Y-axis and location within the read on the X-axis for both perfect repeats and one nucleotide variations. In addition, the start of the VRR region is denoted by a solid red, vertical line | Boolean | False|\n|restriction_digest_analysis| Restriction Digest Analysis|A comma separated list of restriction enzyme cut-sites to determine the completeness of digestion of telomeric sequences| String |None|\n|mutant| mutant | USE WITH CAUTION : If a telomerase RNA mutant incorporates mutant telomeric repeats into the telomere sequence, the mutant repeat of interest can be specified here to return mutant specific calculations of processivity and occurence. Note that this function is in it's preliminary development and is used for exploratory purposes only. It is highly recomended your own analysis is done on the isolated telomeric sequences for higher levels of clarity - I am more than happy to assist and program the analysis specific to your mutant of interest.  Specifying this argument also impacts all other functions of TARPON as the mutant repeat will be included as a telomeric repeat.| String | False |\n|no_capture_probe| No Capture Probe | It is NOT recomended to run TARPON using this parameter. If true, no capture probe identification will occur and the telomere end will be identified by the terminal two conseuctive telomeric repeats. It is not recommended to run TARPON in this manner. Note it is not possible to demultiplex data via TARPON with no capture probe and that multiplexed data should be demultiplexed by dorado demux prior to TARPON execution | Boolean | False |\n\n## [Ouput](#output)\n\nVarious output files are produced when the pipeline is run with different parameters. In all cases, the output directory is created containing the following subdirectories.\n1. pipeline_info\n2. A directory for global run statistics\n3. A directory per sample labeled with either --sample_name (simplex) or the sample names listed in --sample_file (multiplex)\n\n|Directory|Contents|\n|:--|:--:|\n| specified output directory| Contains an HTML report with all relevant statistics and plots for easy viewing to open in your web browser, as well as a directory containing statistics and figures from the entire run, a directory per sample if multiplexed, and a directory containing nextflow relevant workflow files|\n| pipeline_info | execution_trace.txt - List of processes performed during the execution of the nextflow pipeline and their system requirement<br/>execution_timeline.html - Timeline of all processes showing memory usage and duration throughout pipeline execution<br/>execution_report.html - Detailed analysis on all pipeline executation statistics and commands<br/>pipeline_dag.html - Directed Acyclic Graph of Pipeline Execution showing how all processes interact |\n| RUN_STATS | Global statistics on all reads filtered or retained throughout the analysis independent of sample.  Will contain basic .txt files listing relevant statistics and a FIGURES directory showing higher resolution plots of those found in the html report |\n| One Directory per Sample | Statistics on each individual sample including filtered/retained reads, as well as indiivudal read telomere length and strand information. Contains a subdirectory FIGURES containing higher resolution plots of those found in the html report |\n\n\n## Additional Output Files\n\nSpecifying one of the booleans below will result in more detailed or additional results/figures being returned with little increase in computational time or cost.  The parameters are stackable and will often produce additional input when stacked. For example combining --detailed_stats with --strand_comparison will produce more information than either parameter alone.\n\n| Parameter | Location | Description |\n| :--------:|:--:|:--:|\n|--strand_comparison| <nobr>sample directory / C_G_Comparison / |An additional directory within each sample containing three pdf files with direct comparisons of telo length and read length between the C and G strands|\n|<nobr>--restriction_digest_analysis | <nobr> sample directory / restriction_digest.stats.txt |Will create one additional file per sample containing the summary statistics of all reads containing each specified cut site produced by seqkit stats|\n|--plot_telo_length|sample directory / FIGURES |Will produce additional files for all predescribed telomere statistics, but using telomere length instead of the vrr telo length. This compounds with --strand_comparison to produce strand specific telo length plots |\n|--detailed_stats| sample directory / DETAILED_STATS / |Will produce multiple additional figures comparing telomere length to VRR length, looking at the percentage of perfect repeats within the sequencing data, looking at the quality of telomeric sequences, etc. All such files can be found in the sample directory under FIGURES/DETAILED_STATS. This compounds with both strand_comparison and plot_vrr_length to produce additional files in the C_G_Comparison directory |\n~                                                                                                                          ",
      "metadata": {
        "trusted": true
      },
      "outputs": [],
      "execution_count": null
    },
    {
      "id": "96674248-8283-4a05-af6c-63456753f0c5",
      "cell_type": "code",
      "source": "cd /storage/scratch01/groups/bu/teloseq/tarpon/TARPON\nconda activate nextflow_singularity\nexport TARPON_OUTDIR=/storage/scratch01/groups/bu/teloseq/tarpon/output/IE19_multiplex/\nexport TARPON_WORKDIR=/storage/scratch01/groups/bu/teloseq/tarpon/work/IE19_multiplex/\nexport NXF_SINGULARITY_CACHEDIR=/storage/scratch01/users/mespejo/tarpon_singularity_cache\nexport TARPON_INPUT=/storage/scratch01/groups/bu/teloseq/dorado/output/IE19_multiplex/IE19_1/IE19_dorado091_multiplex.bam\nsrun -c 40 --mem=64000 -t 600 --pty bash -c 'nextflow run main.nf -resume -profile singularity --input $TARPON_INPUT -work-dir $TARPON_WORKDIR --capture_probe_sequence TTAACCTTAGCAAT --outdir $TARPON_OUTDIR'\n",
      "metadata": {
        "trusted": true
      },
      "outputs": [],
      "execution_count": null
    },
    {
      "id": "463ec1b8-ffcc-4e63-95fe-bd4080668d86",
      "cell_type": "code",
      "source": "/storage/scratch01/groups/bu/teloseq/dorado/output/IE19_multiplex/IE19_1/IE19_dorado091_multiplex.bam",
      "metadata": {
        "trusted": true
      },
      "outputs": [],
      "execution_count": null
    },
    {
      "id": "f67b4d6c-8b50-440a-9097-62b44694d730",
      "cell_type": "code",
      "source": "srun -c 40 --mem=64000 -t 600 --pty bash -c 'nextflow run main.nf -resume  -with-singularity --input \"$TARPON_INPUT\" --capture_probe_sequence ATGCTACGATCA --outdir \"$TARPON_OUTDIR\"  -work-dir \"$TARPON_WORKDIR\"'\n\n\nsrun -c 40 --mem=64000 -t 600 --pty bash -c '\n  nextflow run main.nf \\\n    -resume \\\n    -profile singularity,slurm \\\n    --input \"$TARPON_INPUT\" \\\n    --capture_probe_sequence AAGGATTCATTCCCACGGTAACAC \\\n    --outdir \"$TARPON_OUTDIR\" \\\n    -work-dir \"$TARPON_WORKDIR\"'\n\nAAGGATTCATTCCCACGGTAACAC\n\n\nsrun -c 40 --mem=64000 -t 600 --pty bash -c '\nnextflow run main.nf \\\n-profile singularity \\\n--input ./test_data/simplex_test.duplex.bam \\\n--capture_probe_sequence ATGCTACGATCA \\\n--outdir ./simplex_test'",
      "metadata": {
        "trusted": true
      },
      "outputs": [],
      "execution_count": null
    },
    {
      "id": "a947cd5b-5cc4-4bc5-aec1-7f900d91f412",
      "cell_type": "code",
      "source": "Commands to add containers to singularity on the cluster:\n\n##On my local machine shell go to:\ncd /Users/mespejo/Documents/IE1_ONT/IE1_4_Teloseq_Betatesting/Bioinformatic/Singulariy\n\n##Create or modify the Dockerfile\nnano Dockerfile\n\n##Entra en mi docker user\ndocker login -u miespejodiaz\n\n##Crea el container\ndocker build -t miespejodiaz/python-with-pysam:latest .\ndocker build -t miespejodiaz/python-with-pysam:regex .\n\n##Subelo\ndocker push miespejodiaz/python-with-pysam:latest\n\n##Esto no me acuerdo porque era\nexport HTTP_PROXY=http://192.168.65.1:3128\nexport HTTPS_PROXY=http://192.168.65.1:3128\nexport NO_PROXY=localhost,127.0.0.1\ndocker push miespejodiaz/python-with-pysam:latest\n\n##Ahora ya en el cluster\nsingularity build /path/to/python-with-pysam.sif docker://miespejodiaz/python-with-pysam:latest\n\nsingularity build /path/to/python-with-pysam.sif docker://miespejodiaz/python-with-pysam:latest\n\n",
      "metadata": {
        "trusted": true
      },
      "outputs": [],
      "execution_count": null
    },
    {
      "id": "4c809b03-939c-463f-848f-d5a545675fe4",
      "cell_type": "code",
      "source": "#Tomás \n\nHola Isa.\n\nNextflow no necesita un container de docker, lo que necesita es a docker \npara bajar contenedores del repositorio de los desarrolladores.\n\nPara usar singularity, copiá /home/mespejo/nextflow.config.singularity a \ntu directorio de TARPON, reemplazando con ese archivo el nextflow.config \noriginal. Lo que hice es añadir un profile de nextflow para que use \nsingularity con los mismos containers.\n\nPara la ejecución create un entorno con `conda create -n \nnextflow_singularity nextflow singularity`, y activalo.\n\nLuego definí un directorio de caché de singularity, donde guardará \ntemporalmente las imágenes docker convertidas, en algún sitio del scratch:\n\nexport NXF_SINGULARITY_CACHEDIR=/storage/scratch01/users/mespejo/tarpon_singularity_cache\n\nY para ejecutar las pruebas:\n\nsrun -c 40 --mem=64000 -t 600 --pty bash -c 'nextflow run main.nf \\\n-profile singularity \\\n--input ./test_data/simplex_test.duplex.bam \\\n--capture_probe_sequence ATGCTACGATCA \\\n--outdir ./simplex_test '\n\nParece funcionar. Si me lo confirmás hago el pull request para que \nañadan la opción a TARPON.\n\n##2\n\nOK, todos los problemas son porque singularity no está activando el \nambiente conda que usa el contenedor, y docker sí. No sé mucho de docker \nasí que no sé la razón, pero podés forzar la activación añadiendo esta \nlínea dentro del perfil de singularity en nextflow.config:\n\nsingularity.runOptions = '--env PATH=\"/opt/conda/bin:$PATH\"'\n\nPodés ponerla por ejemplo después de \"singularity.autoMounts = true\".\n\n/home/mespejo/miniforge3/envs/nextflow_singularity",
      "metadata": {
        "trusted": true
      },
      "outputs": [],
      "execution_count": null
    },
    {
      "id": "f2b46ca1-47f2-4344-8f7d-ad6440ed3ea1",
      "cell_type": "code",
      "source": "###Tomás \nSingularity en la primera versión\n\nEn la primera versión, el perfil singularity está configurado así:\n\nsingularity {\n    singularity.enabled = true\n    singularity.autoMounts = true  // Montajes automáticos de directorios (útil para acceso a datos)\n    docker.enabled = false         // Desactiva Docker para este perfil\n\n    process.\"withLabel:gpu\".singularity.runOptions = \"--nv\"  // Opción para usar GPU (NVIDIA) en Singularity\n}\n\n    singularity.enabled = true: Nextflow usará Singularity para ejecutar los procesos.\n\n    singularity.autoMounts = true: Singularity montará automáticamente directorios como /tmp, /home, /proc, etc., lo que facilita que el contenedor tenga acceso a datos y recursos del sistema host sin configuraciones manuales.\n\n    docker.enabled = false: Para este perfil no se usa Docker, solo Singularity.\n\n    Opción GPU: Para los procesos que tienen etiqueta gpu, se pasa la opción --nv para habilitar soporte GPU en Singularity.\n\nEn resumen\n\n    La primera versión usa Singularity de manera básica y estándar, con opciones de auto-montaje y soporte GPU.\n\n    No especifica rutas o cachés locales para las imágenes Singularity, por lo que se espera que Nextflow maneje las imágenes en el cache por defecto.\n\n    Es ideal para un entorno más genérico o local, o donde Singularity está instalado con configuración estándar.",
      "metadata": {
        "trusted": true
      },
      "outputs": [],
      "execution_count": null
    }
  ]
}