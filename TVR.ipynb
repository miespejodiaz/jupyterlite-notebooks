{
  "metadata": {
    "kernelspec": {
      "name": "python",
      "display_name": "Python (Pyodide)",
      "language": "python"
    },
    "language_info": {
      "codemirror_mode": {
        "name": "python",
        "version": 3
      },
      "file_extension": ".py",
      "mimetype": "text/x-python",
      "name": "python",
      "nbconvert_exporter": "python",
      "pygments_lexer": "ipython3",
      "version": "3.8"
    }
  },
  "nbformat_minor": 5,
  "nbformat": 4,
  "cells": [
    {
      "id": "a0f05266-2dcb-460a-a13b-57bd97bc0c06",
      "cell_type": "code",
      "source": "##Python for String Processing (Much Faster)\n#Instead of using grep inside a Bash loop, use Python, which handles string operations much more efficiently. \n#Modify your script to call a Python script for counting occurrences. \n#Call the python script: count_telomere_variants.py\n\nimport sys\nfrom collections import defaultdict\n\n# Get input filenames\nbam_reads_file = sys.argv[1]   # FASTQ file from BAM\nrepeats_file = sys.argv[2]     # File with telomere repeats\noutput_file = sys.argv[3]      # Output results file\n\n# Load telomere repeat variants into a list\nwith open(repeats_file, \"r\") as f:\n    repeats = [line.strip() for line in f if line.strip()]\n\n# Open the output file for writing\nwith open(output_file, \"w\") as out:\n    out.write(\"Read_ID\\tTotal_TVR_Count\\tTVR_Type\\n\")\n\n    # Read through the FASTQ file, processing every 4th line as a sequence\n    with open(bam_reads_file, \"r\") as f:\n        lines = f.readlines()\n        for i in range(0, len(lines), 4):\n            read_id = lines[i].strip()[1:]  # Remove '@' from header\n            sequence = lines[i + 1].strip()  # Read the sequence\n            \n            total_tvr_count = 0\n            tvr_counts = defaultdict(int)\n\n            # Count occurrences of each repeat in the sequence\n            for repeat in repeats:\n                count = sequence.count(repeat)\n                if count > 0:\n                    total_tvr_count += count\n                    tvr_counts[repeat] += count\n            \n            # If repeats were found, write to output\n            if total_tvr_count > 0:\n                tvr_types = \", \".join(f\"{k} ({v})\" for k, v in tvr_counts.items())\n                out.write(f\"{read_id}\\t{total_tvr_count}\\t{tvr_types}\\n\")\n",
      "metadata": {
        "trusted": true
      },
      "outputs": [],
      "execution_count": null
    },
    {
      "id": "f6e533d1-dfb5-4202-a4ab-5ea72dd4c8ef",
      "cell_type": "code",
      "source": "## python_count_telomere_variants_table.sh:\n\n\n#!/bin/bash\n#SBATCH --mem=32G\n#SBATCH -p gpu\n#SBATCH --gres=gpu:A100:1\n#SBATCH -c 8\n#SBATCH -t 300\n\n# Ensure required variables are set\nif [[ -z \"$BAM_FILE\" || -z \"$REPEATS_FILE\" || -z \"$OUTPUT_FILE\" ]]; then\n    echo \"Error: BAM_FILE, REPEATS_FILE, or OUTPUT_FILE is not set.\"\n    exit 1\nfi\n\n# Convert BAM to FASTQ\nsamtools fastq \"$BAM_FILE\" > reads.fastq\n\n# Run Python script\npython3 count_telomere_variants.py reads.fastq \"$REPEATS_FILE\" \"$OUTPUT_FILE\"\n\necho \"Counting complete. Results saved to $OUTPUT_FILE.\"",
      "metadata": {
        "trusted": true
      },
      "outputs": [],
      "execution_count": null
    },
    {
      "id": "0aedaefe-6a85-42f9-877c-fae48dda4474",
      "cell_type": "code",
      "source": "##Submit your Slurm job, request multiple CPUs\nexport BAM_FILE=\"/storage/scratch01/groups/bu/teloseq/TVR/path/to/filtered_aligned/.bam\"\nexport REPEATS_FILE=\"/storage/scratch01/groups/bu/teloseq/TVR/telomere_repeats.txt\"\nexport OUTPUT_FILE=\"/storage/scratch01/groups/bu/teloseq/TVR/telomere_variants_table.txt\"\nsbatch -c 8 --gres=gpu:A100:1 python_count_telomere_variants_table.sh",
      "metadata": {
        "trusted": true
      },
      "outputs": [],
      "execution_count": null
    }
  ]
}