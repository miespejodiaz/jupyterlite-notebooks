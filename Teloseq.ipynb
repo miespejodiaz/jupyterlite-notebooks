{
  "metadata": {
    "kernelspec": {
      "name": "python",
      "display_name": "Python (Pyodide)",
      "language": "python"
    },
    "language_info": {
      "codemirror_mode": {
        "name": "python",
        "version": 3
      },
      "file_extension": ".py",
      "mimetype": "text/x-python",
      "name": "python",
      "nbconvert_exporter": "python",
      "pygments_lexer": "ipython3",
      "version": "3.8"
    }
  },
  "nbformat_minor": 4,
  "nbformat": 4,
  "cells": [
    {
      "cell_type": "code",
      "source": "'### MULTIPLEXING TELOSEQ ####",
      "metadata": {
        "trusted": true
      },
      "outputs": [],
      "execution_count": null
    },
    {
      "cell_type": "code",
      "source": "**30/7/24 MULTIPLEXING TELOSEQ**\ncd /storage/scratch01/groups/bu/teloseq/ont-pipeline/wf-teloseq/\nconda activate wf-teloseq\nexport TELOSEQ_OUTDIR=/storage/scratch01/groups/bu/teloseq/ont-pipeline/output/IE14_Teloseq_Multiplex/IE14_barcode02/\nexport TELOSEQ_WORKDIR=/storage/scratch01/groups/bu/teloseq/ont-pipeline/work/IE14_Teloseq_Multiplex/IE14_barcode02/\nexport NXF_SINGULARITY_CACHEDIR=/storage/scratch01/groups/bu/teloseq/ont-pipeline/singularity/cache\nexport TELOSEQ_INPUT=/storage/scratch01/groups/bu/teloseq/dorado/output/IE14_Telose_Multiplexing/IE14_demultiplex/IE14_barcode02.fastq \nexport TELOSEQ_SAMPLE=/storage/scratch01/groups/bu/teloseq/dorado/output/IE14_Telose_Multiplexing/IE14_demultiplex/IE14_barcode02.fastq \nsrun -c 40 --mem=64000 -t 600 --pty bash -c 'nextflow run main.nf -resume -profile singularity,slurm -work-dir $TELOSEQ_WORKDIR --out_dir $TELOSEQ_OUTDIR --fastq $TELOSEQ_INPUT'\n\n**01/08/24 MULTIPLEXING TELOSEQ**\n##Run the Demultiplexing Command but keeping bam files:\nsbatch -p gpu --gres=gpu:A100:1 -t 300 --mem=32G --wrap \"/storage/scratch01/users/mespejo/Dorado/bin/dorado demux /storage/scratch01/groups/bu/teloseq/ont-pipeline/data/IE11_Teloseq_Multiplexing_01/IE11_Teloseq_multiplexed_data/IE11_Teloseq_Multiplexing_01_supv56mA2all.bam --barcode-arrangement Teloseq.toml --barcode-sequences Teloseq_adapters.fasta --output-dir /storage/scratch01/groups/bu/teloseq/ont-pipeline/data/IE11_Teloseq_demultiplex\"\n\n\n##Trying to align the barcode0X.bam files with Dorado \nsbatch -p gpu --gres=gpu:A100:1 -t 300 --mem=32G --wrap \"/storage/scratch01/users/mespejo/Dorado/bin/dorado aligner <index> <input_read_folder> --output-dir /storage/scratch01/groups/bu/teloseq/ont-pipeline/output/IE11_demultiplex_align\n\n**16/09/24 Multiplexing Teloseq**\n##.1. Basecalling pod5 files: Doing it as the last time I had an error. Tomás told me that it could be an issue if the input&output folders are the same one. \n$ sbatch -p gpu --gres=gpu:A100:1 -t 300 --mem=32G --wrap \"/storage/scratch01/users/mespejo/Dorado/bin/dorado demux /storage/scratch01/groups/bu/teloseq/ont-pipeline/data/IE12_Teloseq_HEK293T_sg2POT1/IE12_Teloseq_multiplexed_data/IE12_Teloseq_Multiplexing_HEK293T_sg2POT1.bam --barcode-arrangement Teloseq.toml --barcode-sequences Teloseq_adapters.fasta --output-dir /storage/scratch01/groups/bu/teloseq/ont-pipeline/data/IE12_Teloseq_HEK293T_sg2POT1/IE12_demultiplexed/\"\n\n##.2. Transform .bam basecalled file into fastq: Pasamos a fastaq para poder hacer Telo-seq. Igual todo esto no habría hecho falta porque aquí no nos interesa mantener el header. \n$ samtools fastq -T \"*\" ./IE12_Teloseq_Multiplexing_HEK293T_sg2POT1.bam  > IE12_Teloseq_Multiplexing_HEK293T_sg2POT1.fastq\n\n##.3. Hacemos Teloseq primero para el archivo sin demultiplex y luego para cada uno de los barcodes por separado. \n$ cd /storage/scratch01/groups/bu/teloseq/ont-pipeline/wf-teloseq/\n$ conda activate wf-teloseq\n$ cd/storage/scratch01/groups/bu/teloseq/ont-pipeline/output/IE12_Teloseq_HEK293T_sg2POT1/\n$ export TELOSEQ_WORKDIR=/storage/scratch01/groups/bu/teloseq/ont-pipeline/work/IE12_Teloseq_HEK293T_sg2POT1/IE12_demultiplexed/\n$ export NXF_SINGULARITY_CACHEDIR=/storage/scratch01/groups/bu/teloseq/ont-pipeline/singularity/cache\n$ export TELOSEQ_INPUT=/storage/scratch01/groups/bu/teloseq/ont-pipeline/data/IE12_Teloseq_HEK293T_sg2POT1/IE12_Teloseq_multiplexed_data/IE12_Teloseq_Multiplexing_HEK293T_sg2POT1.fastq\n$ export TELOSEQ_SAMPLE=/storage/scratch01/groups/bu/teloseq/ont-pipeline/data/IE12_Teloseq_HEK293T_sg2POT1/IE12_Teloseq_multiplexed_data/IE12_Teloseq_Multiplexing_HEK293T_sg2POT1.fastq\nsrun -c 24 --mem=64000 -t 600 --pty bash -c 'nextflow run main.nf -resume -profile singularity,slurm -work-dir $TELOSEQ_WORKDIR --out_dir $TELOSEQ_OUTDIR --fastq $TELOSEQ_INPUT'\n\nsrun -c 24 --mem=64000 -t 600 --pty bash -c 'nextflow run main.nf -resume -profile singularity,slurm -work-dir $TELOSEQ_WORKDIR --out_dir $TELOSEQ_OUTDIR --fastq $TELOSEQ_INPUT --reference /storage/scratch01/groups/bu/teloseq/dimeloseq/reference/hg002v1.1.fasta'\n        \n##Dio error, posiblemente porque necesitaba más memoria, así que ejecuté de nuevo el pipeline con --mem=128000:\n$ srun -c 24 --mem=128000 -t 1200 --pty bash -c 'nextflow run main.nf -resume -profile singularity,slurm -work-dir $TELOSEQ_WORKDIR --out_dir $TELOSEQ_OUTDIR --fastq $TELOSEQ_INPUT'\n\n$ export TELOSEQ_OUTDIR=/storage/scratch01/groups/bu/teloseq/ont-pipeline/output/IE12_Teloseq_HEK293T_sg2POT1/IE12_demultiplexed\n$ export TELOSEQ_WORKDIR=/storage/scratch01/groups/bu/teloseq/ont-pipeline/work/IE12_Teloseq_HEK293T_sg2POT1/\n$ export NXF_SINGULARITY_CACHEDIR=/storage/scratch01/groups/bu/teloseq/ont-pipeline/singularity/cache\n$ export TELOSEQ_INPUT=/storage/scratch01/groups/bu/teloseq/ont-pipeline/data/IE12_Teloseq_HEK293T_sg2POT1/IE12_demultiplexed/Telo-seq_barcode03.fastq\n$ export TELOSEQ_SAMPLE=/storage/scratch01/groups/bu/teloseq/ont-pipeline/data/IE12_Teloseq_HEK293T_sg2POT1/IE12_demultiplexed/Telo-seq_barcode03.fastq\nsrun -c 24 --mem=128000 -t 1200 --pty bash -c 'nextflow run main02.nf -resume -profile singularity,slurm -work-dir $TELOSEQ_WORKDIR --out_dir $TELOSEQ_OUTDIR --fastq $TELOSEQ_INPUT'\n",
      "metadata": {
        "trusted": true,
        "tags": [],
        "editable": true,
        "slideshow": {
          "slide_type": ""
        }
      },
      "outputs": [],
      "execution_count": null
    }
  ]
}