{
  "metadata": {
    "kernelspec": {
      "name": "python",
      "display_name": "Python (Pyodide)",
      "language": "python"
    },
    "language_info": {
      "codemirror_mode": {
        "name": "python",
        "version": 3
      },
      "file_extension": ".py",
      "mimetype": "text/x-python",
      "name": "python",
      "nbconvert_exporter": "python",
      "pygments_lexer": "ipython3",
      "version": "3.8"
    }
  },
  "nbformat_minor": 5,
  "nbformat": 4,
  "cells": [
    {
      "id": "f82bdf1a-1ca9-4996-a348-4e416b203e51",
      "cell_type": "code",
      "source": "#Two options now:\n#1. Run Teloseq to get the CSV lowfilter file with the ID from the telomeric reads and filter the bam/fastaq files for those reads. Then perform Minimap2 or Dorado alignment\n#2. Directly perform the alignment and visually inspect at IGV. If we just want to check if it has worked or not it might be sufficient for now. \n\ncd /storage/scratch01/groups/bu/teloseq/ont-pipeline/wf-teloseq/\nconda activate wf-teloseq\nexport TELOSEQ_OUTDIR=/storage/scratch01/groups/bu/teloseq/ont-pipeline/output/IE16_multiplex/barcode03\nexport TELOSEQ_WORKDIR=/storage/scratch01/groups/bu/teloseq/ont-pipeline/work/IE16_multiplex/barcode03\nexport NXF_SINGULARITY_CACHEDIR=/storage/scratch01/groups/bu/teloseq/ont-pipeline/singularity/cache\nexport TELOSEQ_INPUT=/storage/scratch01/groups/bu/teloseq/dorado/output/IE16_Multiplexing/IE16_demultiplex/barcode03.fastq\nexport TELOSEQ_SAMPLE=/storage/scratch01/groups/bu/teloseq/dorado/output/IE16_Multiplexing/IE16_demultiplex/barcode03.fastq\nsrun -c 24 --mem=64000 -t 600 --pty bash -c 'nextflow run main.nf -resume -profile singularity,slurm -work-dir $TELOSEQ_WORKDIR --out_dir $TELOSEQ_OUTDIR --fastq $TELOSEQ_INPUT'\"\nsrun -c 24 --mem=64000 -t 600 --pty bash -c 'nextflow run main02.nf -resume -profile singularity,slurm -work-dir $TELOSEQ_WORKDIR --out_dir $TELOSEQ_OUTDIR --fastq $TELOSEQ_INPUT'\n",
      "metadata": {
        "trusted": true
      },
      "outputs": [],
      "execution_count": null
    },
    {
      "id": "1fdfa76c-ac42-4bec-8af5-ca1e20d4bbae",
      "cell_type": "code",
      "source": "##Fichero python para hacer el filtro de los telomeric reads prior to map con minimap2. \n\nimport csv\nimport pysam\nimport argparse\n\ndef filter_bam(csv_file, input_bam, output_bam):\n    # Step 1: Load read IDs from the CSV file\n    read_ids = set()  # Use a set for faster lookup\n    with open(csv_file, 'r') as f:\n        reader = csv.reader(f)\n        for row in reader:\n            read_ids.add(row[0])  # Assuming the read ID is in the first column\n\n    # Step 2: Open the input BAM file and prepare the output BAM file\n    with pysam.AlignmentFile(input_bam, \"rb\", check_sq=False) as bam_in, \\\n         pysam.AlignmentFile(output_bam, \"wb\", header=bam_in.header) as bam_out:\n\n        # Step 3: Iterate through the BAM file and filter reads\n        for read in bam_in:\n            if read.query_name in read_ids:  # Check if read ID is in the set\n                bam_out.write(read)  # Write matching read to the output BAM\n\nif __name__ == \"__main__\":\n    # Set up argument parsing\n    parser = argparse.ArgumentParser(description=\"Filter a BAM file based on read IDs from a CSV file.\")\n    parser.add_argument(\"--csv_file\", required=True, help=\"Path to the CSV file containing read IDs (first column).\")\n    parser.add_argument(\"--input_bam\", required=True, help=\"Path to the input BAM file.\")\n    parser.add_argument(\"--output_bam\", required=True, help=\"Path to the output BAM file for filtered reads.\")\n\n    # Parse the arguments\n    args = parser.parse_args()\n\n    # Call the filter_bam function with the parsed arguments\n    filter_bam(args.csv_file, args.input_bam, args.output_bam)\n",
      "metadata": {
        "trusted": true
      },
      "outputs": [],
      "execution_count": null
    },
    {
      "id": "a3ccd604-61cd-4b70-bc88-f73089b22de2",
      "cell_type": "code",
      "source": "## Para ejecutar\npython filter_bam.py --csv_file path/to/your.csv --input_bam path/to/input.bam --output_bam path/to/output.bam\n",
      "metadata": {
        "trusted": true
      },
      "outputs": [],
      "execution_count": null
    },
    {
      "id": "e101029e-697a-44ac-aaea-a0d1c1bd4e00",
      "cell_type": "code",
      "source": "##Trying to align the barcode0X.bam files with Dorado \nsbatch -p gpu --gres=gpu:A100:1 -t 300 --mem=32G --wrap \"/storage/scratch01/users/mespejo/Dorado/bin/dorado aligner <index> <input_read_folder> --output-dir /storage/scratch01/groups/bu/teloseq/ont-pipeline/output/IE11_demultiplex_align\\\"\n",
      "metadata": {
        "trusted": true
      },
      "outputs": [],
      "execution_count": null
    },
    {
      "id": "26f1869b-588e-434e-8d5d-2ec247494383",
      "cell_type": "code",
      "source": "##Trying to align with minimap2:\n#Pasamos a fastq\nsamtools fastq -T \"*\" output.bam > output.fastq\n\n##Run minimap2. It is installed at env wf-teloseq\nsbatch -p gpu --gres=gpu:A100:1 -t 3000 --mem=32G --wrap 'minimap2 -ax map-ont -y --MD -Y --eqx --cap-kalloc 1g -t 20 --secondary=no --paf-no-hit /storage/scratch01/groups/bu/teloseq/dimeloseq/reference/hg002v1.1.fasta output.fastq > temp_outputfastq_aligned.sam'\n\n##Minimap2 at wf-teloseq uses much less indications.\nminimap2 -ax map-ont -t 20 $ref $fastqFile | samtools sort -@2 -o ${fastqFile.simpleName}.telomere_filter.bam \nsamtools index ${fastqFile.simpleName}.telomere_filter.bam  \nsamtools view -bq 10 -h ${fastqFile.simpleName}.telomere_filter.bam > ${fastqFile.simpleName}.bam    \nsamtools index ${fastqFile.simpleName}.bam\nsbatch -p gpu --gres=gpu:A100:1 -t 300 --mem=32G --wrap \"minimap2 -ax map-ont -y --MD -Y --eqx --cap-kalloc 1g -t 20 --secondary=no --paf-no-hit /storage/scratch01/groups/bu/teloseq/dimeloseq/reference/hg002v1.1.fasta /storage/scratch01/groups/bu/teloseq/dorado/output/IE16_Multiplexing/IE16_demultiplex/barcode03_h3k9me3urea.fastq > temp_bobarcode03_h3k9me3urea.sam\"\n\n#Minimap con srun\nrun -c 8 --mem=12000 -t 120 --pty bash -c 'minimap2 -ax map-ont -y --MD -Y --eqx --cap-kalloc 1g -t 20 --secondary=no --paf-no-hit /storage/scratch01/groups/bu/teloseq/dimeloseq/reference/hg002v1.1.fasta IE10_DiMeLoseq_H3K27me3_Teloseq_supv56mAall.fastq > temp_aligned.sam\"\n",
      "metadata": {
        "trusted": true
      },
      "outputs": [],
      "execution_count": null
    },
    {
      "id": "8e10774a-71d5-48ae-9ef1-0c345bce2b80",
      "cell_type": "code",
      "source": "#Generamos ahora el BAM a partir del SAM\nrun -c 8 --mem=12000 -t 120 --pty bash -c 'minimap2 -ax map-ont -y --MD -Y --eqx --cap-kalloc 1g -t 20 --secondary=no --paf-no-hit /storage/scratch01/groups/bu/teloseq/dimeloseq/reference/hg002v1.1.fasta IE10_DiMeLoseq_H3K27me3_Teloseq_supv56mAall.fastq > temp_aligned.sam\"\nsamtools sort -m 2G -O BAM -@ 4 temp_fastq_aligned.sam > output_aligne.bam\nsamtools index IE10_DiMeLoseq_H3K27me3_Teloseq_6mA_aligned_filtered.bam\n##Now we should need to run Teloseq to get the ID from the telomeric reads, as we dont know if any of the reads that we have is complete telomere or not\n##Filter fastaq files after Dorado by the ID of the CSV lowfilter file generated after wf-teloseq. ",
      "metadata": {
        "trusted": true
      },
      "outputs": [],
      "execution_count": null
    },
    {
      "id": "eeea4c1a-9536-4878-9e85-e1af93d1300e",
      "cell_type": "code",
      "source": "minimap2 -ax map-ont -y -Y --MD -t $task.cpus --secondary=no --sam-hit-only --eqx  mapping_reference.fasta reads.fastq | samtools sort -o telomere.bam\nsamtools index telomere.bam\nsamtools view -bq ${params.mapq} -h telomere.bam > \"telomere.q${params.mapq}.bam\"\nsamtools index \"telomere.q${params.mapq}.bam\"\n\nrun -c 8 --mem=12000 -t 120 --pty bash -c 'minimap2 -ax map-ont -y --MD -Y --eqx --cap-kalloc 1g -t 20 --secondary=no --paf-no-hit mapping_reference.fasta  reads.fastq > temp_aligned.sam\"\nsamtools sort -m 2G -O BAM -@ 4 temp_fastq_aligned.sam > output_aligne.bam\nsamtools index IE10_DiMeLoseq_H3K27me3_Teloseq_6mA_aligned_filtered.bam",
      "metadata": {
        "trusted": true
      },
      "outputs": [],
      "execution_count": null
    },
    {
      "id": "20ad773a-91a6-460a-87ed-60be8ebff0d7",
      "cell_type": "code",
      "source": "",
      "metadata": {
        "trusted": true
      },
      "outputs": [],
      "execution_count": null
    },
    {
      "id": "905a62c0-d9d3-4a82-b379-4c630a43aaeb",
      "cell_type": "code",
      "source": "",
      "metadata": {
        "trusted": true
      },
      "outputs": [],
      "execution_count": null
    }
  ]
}