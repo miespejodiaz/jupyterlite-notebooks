{
  "metadata": {
    "kernelspec": {
      "name": "SQLite",
      "display_name": "SQLite",
      "language": "sql"
    },
    "language_info": {
      "codemirror_mode": "sql",
      "file_extension": "",
      "mimetype": "",
      "name": "sql",
      "version": "3.32.3"
    }
  },
  "nbformat_minor": 5,
  "nbformat": 4,
  "cells": [
    {
      "id": "120a9156-fee3-4690-8f63-e13c04889914",
      "cell_type": "code",
      "source": "'## DORADO BASECALLING ##\n# Rehacemos el basecalling con sup, 5mC y 6mA (si Dimeloseq). \n# IMPORTANTE: No olvidar el --no-trim.",
      "metadata": {
        "trusted": true
      },
      "outputs": [],
      "execution_count": null
    },
    {
      "id": "741654ae-ece6-4922-9169-b4428973f0c5",
      "cell_type": "code",
      "source": "sbatch -p gpu --gres=gpu:A100:1 -t 600 --mem=32G --wrap \"/path/to/dorado basecaller sup,5mCG_5hmCG,6mA ./pod5/ --no-trim  > output.bam\"\n\n'#Explicación comando'\n    \n sbatch \\                        #This is the command to submit a job to the Slurm job scheduler.\n -p gpu \\                        #This specifies that the job should be run on a GPU partition.\n --gres=gpu:A100:1 \\             #This requests one NVIDIA A100 GPU for the job.\n -t 300 \\                        #This sets the maximum runtime for the job to 300 minutes (5 hours).\n --mem=32G \\                     #This requests 32 GB of memory for the job.\n --wrap \\                        #This allows the entire command to be passed as a single argument to \n   \"/path/to/dorado basecaller \\ #This runs the Dorado basecaller located in the specified directory.\n    \n    Dorado0.7.2: /storage/scratch01/users/mespejo/Doradov072/bin/dorado\n    Dorado0.8.2: /storage/scratch01/users/mespejo/Doradov082/bin/dorado   \n    Dorado0.9.1: /storage/scratch01/groups/bu/teloseq/dorado/Doradov091/dorado-0.9.1-linux-x64/bin/dorado\n    \n   sup,6mA \\                     #This tells Dorado to use the \"sup\" model and look for 6mA DNA modifications.\n   path/to/pod5/ \\               #This is the directory containing the input POD5 files.\n   --no-trim \\                   #This option tells Dorado not to trim the reads.\n   > output.bam\"                 #This redirects the output of the Dorado basecaller to a file named \"output.bam\".",
      "metadata": {
        "trusted": true
      },
      "outputs": [],
      "execution_count": null
    },
    {
      "id": "46016b95-f133-4c63-872f-a9e47500953a",
      "cell_type": "code",
      "source": "'# Altemose dice que mejor la version 4.3 para 6mA, que les da un 30% más de reads.\n# En su github (https://github.com/altemoselab/miscTools) tienen el siguiente comando:' \n\n\"/path/to/dorado-0.5.1-linux-x64/bin/dorado basecaller \\\n--modified-bases 6mA 5mCG_5hmCG \\\n-c 7500 \\\n-l $read_ids \\\n--reference $reference \\\n/path/to/tools/dorado-0.5.1-linux-x64/models/dna_r10.4.1_e8.2_400bps_sup@v4.3.0 \\\n$pod5 > ${read_ids}.dorado_v5.1_mA_mCG.bam\"\n\n'# Podríamos quizás probar a hacer'\n\nsbatch -p gpu --gres=gpu:A100:1 -t 600 --mem=32G --wrap \"/storage/scratch01/users/mespejo/Doradoupdate/bin/dorado basecaller --modified-bases 6mA /storage/scratch01/users/mespejo/Doradoupdate/bin/models_dorado/dna_r10.4.1_e8.2_400bps_sup@v4.3.0_6mA@v2 ./pod5/ --no-trim > outputv436mA.bam\"",
      "metadata": {
        "trusted": true
      },
      "outputs": [],
      "execution_count": null
    },
    {
      "id": "0aa10393-a433-4ded-884b-2c673f4aa282",
      "cell_type": "code",
      "source": "'##Finally worked:'\n\nsbatch -p gpu --gres=gpu:A100:1 -t 600 --mem=32G --wrap \\\n\"/path/to/dorado basecaller sup@v4.3.0,6mA \\ /storage/scratch01/users/mespejo/Doradov082/bin/dorado or /storage/scratch01/users/mespejo/Doradov072/bin/dorado \n path/to/pod5files/ \n --no-trim   \\ As it has the barcodes\n > IE13supv436mA.bam\"",
      "metadata": {
        "trusted": true
      },
      "outputs": [],
      "execution_count": null
    },
    {
      "id": "265ef426-eb98-44f5-83f8-84110e81f8a9",
      "cell_type": "code",
      "source": "'##Para 5mC también'\nsbatch -p gpu --gres=gpu:A100:1 -t 600 --mem=32G --wrap \"/storage/scratch01/groups/bu/teloseq/dorado/Doradov091/dorado-0.9.1-linux-x64/bin/dorado basecaller sup@v4.3.0,5mCG_5hmCG,6mA /storage/scratch01/groups/bu/teloseq/dorado/data/IE14_Teloseq_Multiplexing/pod5 --no-trim  > IE14supv435mC6mA.bam\"\n\nsbatch -p gpu --gres=gpu:A100:1 -t 600 --mem=32G --wrap \"/storage/scratch01/groups/bu/teloseq/dorado/Doradov091/dorado-0.9.1-linux-x64/bin/dorado basecaller sup,5mCG_5hmCG,6mA /path/to/pod5 --no-trim  > output.bam\"",
      "metadata": {
        "trusted": true
      },
      "outputs": [],
      "execution_count": null
    },
    {
      "id": "953da237-7fff-4ba1-8c5c-4263b371bc39",
      "cell_type": "code",
      "source": "'#In case we want to change the Qscore'\n$ dorado basecaller --min-qscore 10 dna_r10.4.1_e8.2_260bps_hac@v4.0.0 pod5s/ > calls.sam",
      "metadata": {
        "trusted": true
      },
      "outputs": [],
      "execution_count": null
    },
    {
      "id": "491fc220-d08b-44f9-b1ed-52b45ce2564c",
      "cell_type": "code",
      "source": "'# Chequeamos los files:'\nsamtools view -H output.bam\nsamtools view output.bam | less\nCtrl + C #To stop\nsamtools quickcheck -v output.bam",
      "metadata": {
        "trusted": true
      },
      "outputs": [],
      "execution_count": null
    },
    {
      "id": "c2628ab0-41d2-4818-97d5-748854299ff6",
      "cell_type": "code",
      "source": "'##Run the Demultiplexing Command but keeping bam files:'\nsbatch -p gpu --gres=gpu:A100:1 -t 300 --mem=32G --wrap \"/storage/scratch01/users/mespejo/Doradov082/bin/dorado demux output.bam\n--barcode-arrangement /storage/scratch01/groups/bu/teloseq/ont-pipeline/wf-teloseq/Teloseq.toml \n--barcode-sequences /storage/scratch01/groups/bu/teloseq/ont-pipeline/wf-teloseq/Teloseq_adapters.fasta \n--output-dir /storage/scratch01/groups/bu/teloseq/dorado/output/IEX_multiplex/IEX_demultiplex\"",
      "metadata": {
        "trusted": true
      },
      "outputs": [],
      "execution_count": null
    },
    {
      "id": "b6390a20-48bc-42e1-89ed-64f59768d156",
      "cell_type": "code",
      "source": "'##Transform .bam basecalled file into fastq to be able to perform Telo-seq.'\nsamtools fastq -T \"*\" ./IEX_demultiplex_barcode0X.bam  > IEX_demultiplex_barcode0X.fastq",
      "metadata": {
        "trusted": true
      },
      "outputs": [],
      "execution_count": null
    }
  ]
}