{
  "metadata": {
    "kernelspec": {
      "name": "python",
      "display_name": "Python (Pyodide)",
      "language": "python"
    },
    "language_info": {
      "codemirror_mode": {
        "name": "python",
        "version": 3
      },
      "file_extension": ".py",
      "mimetype": "text/x-python",
      "name": "python",
      "nbconvert_exporter": "python",
      "pygments_lexer": "ipython3",
      "version": "3.8"
    }
  },
  "nbformat_minor": 4,
  "nbformat": 4,
  "cells": [
    {
      "cell_type": "code",
      "source": "##DiMelo package instalado en el cluster en:\n\ncd /storage/scratch01/groups/bu/teloseq/dimeloseq/dimelo\nconda activate dimelo",
      "metadata": {
        "collapsed": false,
        "jupyter": {
          "outputs_hidden": false
        }
      },
      "outputs": [],
      "execution_count": null
    },
    {
      "cell_type": "markdown",
      "source": "\n# Single-Molecule Browser Plot\n\nPlot single molecules with colored base modifications in a region of interest\n",
      "metadata": {}
    },
    {
      "cell_type": "markdown",
      "source": "Create either an interactive single-molecule HTML browser if static=False, or create a PDF if static=True.\nBase modifications are colored by type (mA vs. mCG) and probability of modification.\nExample data for producing these plots can be downloaded from SRA: https://www.ncbi.nlm.nih.gov/bioproject/752170\nThe below Python and command line options produce the same output.\n\n",
      "metadata": {}
    },
    {
      "cell_type": "markdown",
      "source": "## 1. Python option",
      "metadata": {}
    },
    {
      "cell_type": "code",
      "source": "import dimelo as dm\n\nbam = \"deep_ctcf_mod_mappings_merge.sorted.bam\"\nsampleName = \"CTCF\"\noutDir = \"./out\"\ndm.plot_browser(\n    bam,\n    sampleName,\n    \"chr11:2086423-2091187\",\n    \"A+CG\",\n    outDir,\n    threshA=153,\n    threshC=153,\n    static=True,\n    smooth=100,\n    min_periods=10,\n)",
      "metadata": {
        "collapsed": false,
        "jupyter": {
          "outputs_hidden": false
        }
      },
      "outputs": [],
      "execution_count": null
    },
    {
      "cell_type": "markdown",
      "source": "## 2. Command line option",
      "metadata": {}
    },
    {
      "cell_type": "code",
      "source": "plot_browser\n\tplot_browser(fileNames, sampleNames, region, basemod, outDir, threshA=129, threshC=129, bedFileFeatures=None, smooth=1000, min_periods=100, colorA='#053C5E', colorC='#BB4430', dotsize=4, static=False, cores=None)\n\t\t\tfileNames\n\t\t\t\tlist of names of bam files with Mm and Ml tags; indexed; or single file name as string\n\t\t\tsampleNames\n\t\t\t\tlist of names of samples for output plot name labelling; or single sample name as string; valid names contain [a-zA-Z0-9_].\n\t\t\tregion\n\t\t\t\tformatted as for example: “chr1:1-100000”\n\t\t\tbasemod\n\t\t\t\tOne of the following:\n\t\t\t\t\t® 'A' - extract mA only\n\t\t\t\t\t® 'CG' - extract mCpG only\n\t\t\t\t\t® 'A+CG' - extract mA and mCpG\n\t\t\toutDir\n\t\t\t\tdirectory to output plot\n\t\t\tthreshA\n\t\t\t\tthreshold for calling mA; default 129\n\t\t\tthreshC\n\t\t\t\tthreshold for calling mCG; default 129\n\t\t\tbedFileFeatures\n\t\t\t\tbedFile specifying regions to display in browser (optional); default None\n\t\t\tsmooth\n\t\t\t\twindow over which to smooth aggregate curve; default of 1000 bp\n\t\t\tmin_periods\n\t\t\t\tminimum number of bases to consider for smoothing: default of 100 bp\n\t\t\tcolorA\n\t\t\t\tcolor in hex for mA; default #053C5E\n\t\t\tcolorC\n\t\t\t\tcolor in hex for mCG; default #BB4430\n\t\t\tdotsize\n\t\t\t\tsize of points; default 4\n\t\t\tstatic\n\t\t\t\tOne of the following:\n\t\t\t\t\t® 'True' - pdf output\n\t\t\t\t\t® 'False' - interactive html output; default is False\n\t\t\tcores\n\t\t\t\tnumber of cores over which to parallelize; default is all available\n\t\tExample\n\t\t\ndm.plot_browser(\"dimelo/test/data/mod_mappings_subset.bam\", \"test\", \"chr1:2907273-2909473\", \"A+CG\", \"dimelo/dimelo_test\", static=False)\ndm.plot_browser([\"dimelo/test/data/mod_mappings_subset.bam\", \"dimelo/test/data/mod_mappings_subset.bam\"], [\"test1\", \"test2\"], \"chr1:2907273-2909473\", \"A+CG\", \"dimelo/dimelo_test\", static=False)\ndimelo-plot-browser -f deep_ctcf_mod_mappings_merge.sorted.bam -s CTCF -r chr11:2086423-2091187 -m A+CG -o ./out -A 153 -C 153 --static -t 100 -n 10",
      "metadata": {
        "trusted": true
      },
      "outputs": [],
      "execution_count": null
    },
    {
      "cell_type": "code",
      "source": "Return\n\t\t○ PDF or HTML file with single molecules displayed over region of interest. Modified bases are colored according to colorA and colorC.\n\t\t○ PDFs of aggregate coverage and fraction of bases modified over region of interest.\n\t\t○ A summary bed file is also produced to support visualizing aggregate data with any genome browser tool. The columns of this bed file are chr, start, end, methylated_bases, total_bases. For example, to take a summary output bed and create a file with fraction of modified bases with a window size of 100 bp for visualization with the WashU browser, you could run the below commands in terminal:\n\t\t\t\t□ bedtools makewindows -g ref_genome.chromsizes.txt -w 100 > ref_genome_windows.100.bp.bed\n\t\t\t\t□ bedtools map -a ref_genome_windows.100.bp.bed -b outDir/fileName_sampleName_chr_start_end_A.bed -c 4,5 -o sum,sum -null 0 | awk -v \"OFS=\\t\" '{if($5>0){print $1,$2,$3,$4/$5}else{print $1,$2,$3,$5}}' > outDir/fileName_sampleName_chr_start_end_A.100.bed\n\t\t\t\t□ bgzip outDir/fileName_sampleName_chr_start_end_A.100.bed\ntabix -f -p bed outDir/fileName_sampleName_chr_start_end_A.100.bed.gz",
      "metadata": {
        "trusted": true
      },
      "outputs": [],
      "execution_count": null
    },
    {
      "cell_type": "code",
      "source": "##DiMeLo plot browser\ndimelo-plot-browser [-h] -f FILENAMES [FILENAMES ...] -s SAMPLENAMES [SAMPLENAMES ...] -r\n                    REGION -m {A,CG,A+CG} -o OUTDIR [-t SMOOTH] [-n MIN_PERIODS]\n                    [--colorA COLORA] [--colorC COLORC] [-d DOTSIZE] [-A THRESHA]\n                    [-C THRESHC] [-b BEDFILEFEATURES] [--static] [-p CORES]\n\n##dimelo-plot-browser optional arguments\n\t• -h, --help - show this help message and exit\n\t• -A THRESHA, --threshA THRESHA - threshold above which to call an A base methylated (default: 129)\n\t• -C THRESHC, --threshC THRESHC - threshold above which to call a C base methylated (default: 129)\n\t• -b BEDFILEFEATURES, --bedFileFeatures BEDFILEFEATURES - bed file specifying annotation to display in browser (default: None)\n\t• --static - output as PDF instead of interactive HTML\n\t• -p CORES, --cores CORES - number of cores over which to parallelize (default: None)\n\n##dimelo-plot-browser required arguments\n\t• -f FILENAMES, --fileNames FILENAMES - bam file name(s) (default: None)\n\t• -s SAMPLENAMES, --sampleNames SAMPLENAMES - sample name(s) for output file labelling (default: None)\n\t• -r REGION, --region REGION - single region over which to extract base mods, e.g. \"chr1:1-100000\" (default: None)\n\t• -m BASEMOD, --basemod BASEMOD - which base modification to extract (default: None)\n\t• -o OUTDIR, --outDir OUTDIR - directory to output plot (default: None)\n\n##dimelo-plot-browser smoothing options\n\t• -t SMOOTH, --smooth SMOOTH - window over which to smooth aggregate curve (default: 1000)\n\t• -n MIN_PERIODS, --min_periods MIN_PERIODS - minimum number of bases to consider for smoothing (default: 100)\n                                                                                     \n##dimelo-plot-browser plotting options\n\t• --colorA COLORA - color in hex (e.g. \"#BB4430\") for mA (default: #053C5E)\n\t• --colorC COLORC - color in hex (e.g. \"#BB4430\") for mCG (default: #BB4430)\n\t• -d DOTSIZE, --dotsize DOTSIZE - size of points (default: 4)\n",
      "metadata": {
        "trusted": true
      },
      "outputs": [],
      "execution_count": null
    }
  ]
}